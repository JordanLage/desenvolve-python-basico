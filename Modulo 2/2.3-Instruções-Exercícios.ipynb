{
  "cells": [
    {
      "cell_type": "markdown",
      "metadata": {
        "id": "1pCTdOHonv5f"
      },
      "source": [
        "# Módulo 2\n",
        "\n",
        "## 2.3 Instruções e Expressões\n",
        "\n",
        "### Q1\n",
        "\n",
        "Faça um programa que armazene o valor de 20 reais de salário por hora de um trabalhador, e o número de 40 horas trabalhadas na semana. Com essas informações, calcule e imprima:\n",
        "- Salário semanal bruto\n",
        "- Valor descontado por semana INSS (10% do bruto)\n",
        "- Valor descontado por semana pelo sindicato (5% do bruto)\n",
        "- Salário semanal líquido (Bruto - Descontos)"
      ]
    },
    {
      "cell_type": "code",
      "execution_count": 23,
      "metadata": {
        "id": "hVbX0I97nj6M"
      },
      "outputs": [
        {
          "name": "stdout",
          "output_type": "stream",
          "text": [
            "O salário bruto é: 800\n",
            "O desconto do sindicato é: 80.0\n",
            "O desconto do sindicato é: 40.0\n",
            "O salário líquido é: 680.0\n"
          ]
        }
      ],
      "source": [
        "## Escreva e execute seu código aqui\n",
        "salario_hora = 20 \n",
        "horas_semanais= 40  \n",
        " \n",
        "salario_bruto = salario_hora * horas_semanais\n",
        "print(f'O salário bruto é: {salario_bruto}')\n",
        "\n",
        "# Descontos\n",
        "inss = 0.10\n",
        "sindicato = 0.05\n",
        "\n",
        "descontos_inss = salario_bruto * inss \n",
        "print(f'O desconto do sindicato é: {descontos_inss}')\n",
        "\n",
        "desconto_sindicato = salario_bruto * sindicato\n",
        "print(f'O desconto do sindicato é: {desconto_sindicato}')\n",
        "\n",
        "salario_liquido = salario_bruto - desconto_sindicato - descontos_inss\n",
        "print(f'O salário líquido é: {salario_liquido}' )"
      ]
    },
    {
      "cell_type": "markdown",
      "metadata": {
        "id": "pIxKX9J2oGZ1"
      },
      "source": [
        "### Q2\n",
        "\n",
        "Altere o programa anterior para a partir dos valores de horas trabalhadas por semana e salário por hora, calcular **em somente duas instruções**:\n",
        "- Salário semanal bruto\n",
        "- Salário semanal líquido com todos os descontos. Para a segunda instrução, realize todos os cálculos aritméticos em uma expressão composta.\n"
      ]
    },
    {
      "cell_type": "code",
      "execution_count": 17,
      "metadata": {
        "id": "pAHw9Xf9oGoi"
      },
      "outputs": [
        {
          "name": "stdout",
          "output_type": "stream",
          "text": [
            "O salário bruto é: 800\n",
            "O salário líquido é: 680.0\n"
          ]
        }
      ],
      "source": [
        "## Escreva e execute seu código aqui\n",
        "salario_hora = 20 * 40 \n",
        "salario_liquido = salario_hora * (1 - (0.10 + 0.05)) \n",
        " \n",
        "print(f'O salário bruto é : {salario_hora}')\n",
        "print(f'O salário líquido é : {salario_liquido}')"
      ]
    },
    {
      "cell_type": "markdown",
      "metadata": {
        "id": "m8tlHRuWpBOB"
      },
      "source": [
        "### Q3\n",
        "\n",
        "Você está desenvolvendo um software de conversão de moeda e precisa calcular o valor equivalente em yuan chinês a partir de uma quantia em real. A taxa de câmbio é de 0.69 BRL (real) para 1 CNY (yuan). Escreva um programa que define em uma variável uma quantia em reais (BRL) e calcula o valor equivalente em yuan (CNY). Imprima o resultado."
      ]
    },
    {
      "cell_type": "code",
      "execution_count": 32,
      "metadata": {
        "id": "2bPw7uF6oeL9"
      },
      "outputs": [
        {
          "name": "stdout",
          "output_type": "stream",
          "text": [
            "O valor em YUAN é : 299.46\n"
          ]
        }
      ],
      "source": [
        "## Escreva e execute seu código aqui\n",
        "valor_real = int(input('Insira o valor que deseja converter :'))\n",
        "conversao = 0.69 \n",
        "\n",
        "valor_yuan = valor_real * conversao \n",
        "print(f'O valor em YUAN é : {valor_yuan :.2f}')"
      ]
    },
    {
      "cell_type": "markdown",
      "metadata": {
        "id": "-Na3ltDCp74A"
      },
      "source": [
        "### Q4\n",
        "\n",
        "Você é um treinador de corrida e deseja calcular a velocidade média que um atleta precisa manter para completar a Maratona Internacional de São Silvestre, que tem uma distância total de 42.195 km. A fórmula para calcular a velocidade média ($v\\_media$) é dada por $v\\_media = \\frac{distancia}{tempo}$ . Escreva um programa em Python para calcular a velocidade média necessária para completar a maratona em 3 horas.\n",
        "\n",
        "**Calcule e imprima o resultado em metros/segundo**, ou seja, converta a distância de quilômetros para metros ($metro = \\frac{km}{1000}$) e a velocidade de horas para segundos $(segundo = \\frac{hora}{3600})$."
      ]
    },
    {
      "cell_type": "code",
      "execution_count": 44,
      "metadata": {
        "id": "Bn6l8kcSrE4L"
      },
      "outputs": [
        {
          "name": "stdout",
          "output_type": "stream",
          "text": [
            "A velocidade média deve ser de: 3.91 m/s\n"
          ]
        }
      ],
      "source": [
        "## Escreva e execute seu código aqui\n",
        "distancia_total = 42.195 #km\n",
        "tempo_total = 3 # Horas\n",
        "\n",
        "km_para_metro = distancia_total * 1000\n",
        "\n",
        "tempo_em_segundos = tempo_total * 3600\n",
        "\n",
        "\n",
        "# Formula  \n",
        "velocidade_media = km_para_metro / tempo_em_segundos\n",
        "\n",
        "print(f'A velocidade média deve ser de: {velocidade_media :.2f} m/s')"
      ]
    }
  ],
  "metadata": {
    "colab": {
      "provenance": []
    },
    "kernelspec": {
      "display_name": "Python 3",
      "name": "python3"
    },
    "language_info": {
      "codemirror_mode": {
        "name": "ipython",
        "version": 3
      },
      "file_extension": ".py",
      "mimetype": "text/x-python",
      "name": "python",
      "nbconvert_exporter": "python",
      "pygments_lexer": "ipython3",
      "version": "3.12.3"
    }
  },
  "nbformat": 4,
  "nbformat_minor": 0
}
