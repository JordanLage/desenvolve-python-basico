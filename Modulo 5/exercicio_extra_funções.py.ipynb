{
 "cells": [
  {
   "cell_type": "markdown",
   "metadata": {},
   "source": [
    "# Alguns exercicios extra para reforçar funções "
   ]
  },
  {
   "cell_type": "markdown",
   "metadata": {},
   "source": [
    "### 1. Faça uma função para calcular impostos e utilize uma lista para armazenar os valores. Faça um programa que solicita ao usuário para inserir os valores e exiba o imposto total na tela. \n",
    "Os valores são:\n",
    "imposto_ir = 0.2 20%\n",
    "imposto_iss = 0.15 15%\n",
    "impost_csll = 0.05 5%."
   ]
  },
  {
   "cell_type": "code",
   "execution_count": null,
   "metadata": {},
   "outputs": [],
   "source": [
    "def calcular_imposto_total(preco):\n",
    "    if preco <= 2000:\n",
    "        imposto_ir = 0.2 * preco\n",
    "    else:\n",
    "        imposto_ir = 0.3 * preco\n",
    "    imposto_iss = 0.15 * preco\n",
    "    imposto_csll = 0.05 * preco\n",
    "    imposto_total = imposto_ir + imposto_iss + imposto_csll\n",
    "    print(f'Imposto total sobre o produto de R${preco}: R${imposto_total:.2f}')\n",
    "\n",
    "lista_preco = []\n",
    "\n",
    "while True: \n",
    "    preco = int(input('Digite o preço do produto (ou 0 para sair): '))\n",
    "    if preco == 0:\n",
    "        break\n",
    "    lista_preco.append(preco)\n",
    "    calcular_imposto_total(preco)\n",
    "\n",
    "print(f'Lista com os preços: {lista_preco}')"
   ]
  }
 ],
 "metadata": {
  "kernelspec": {
   "display_name": "Python 3",
   "language": "python",
   "name": "python3"
  },
  "language_info": {
   "codemirror_mode": {
    "name": "ipython",
    "version": 3
   },
   "file_extension": ".py",
   "mimetype": "text/x-python",
   "name": "python",
   "nbconvert_exporter": "python",
   "pygments_lexer": "ipython3",
   "version": "3.12.3"
  }
 },
 "nbformat": 4,
 "nbformat_minor": 2
}
